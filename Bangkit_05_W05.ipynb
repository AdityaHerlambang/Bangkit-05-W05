{
  "nbformat": 4,
  "nbformat_minor": 0,
  "metadata": {
    "colab": {
      "name": "Bangkit 05-W05.ipynb",
      "provenance": [],
      "collapsed_sections": [],
      "toc_visible": true,
      "authorship_tag": "ABX9TyNdhI4CLrWrYgOqAOT6ik5S"
    },
    "kernelspec": {
      "name": "python3",
      "display_name": "Python 3"
    }
  },
  "cells": [
    {
      "cell_type": "markdown",
      "metadata": {
        "id": "EuqUAPkMt6hp",
        "colab_type": "text"
      },
      "source": [
        "Import libraries and check TF version."
      ]
    },
    {
      "cell_type": "code",
      "metadata": {
        "id": "D4DVtkd9CxEa",
        "colab_type": "code",
        "outputId": "ccd04952-b56a-42d0-ee55-b51d4b570e56",
        "colab": {
          "base_uri": "https://localhost:8080/",
          "height": 50
        }
      },
      "source": [
        "# TensorFlow Library\n",
        "%tensorflow_version 1.x\n",
        "import tensorflow as tf\n",
        "\n",
        "# Feature Engineering Library\n",
        "from sklearn.impute import SimpleImputer\n",
        "\n",
        "# Helper Library\n",
        "import numpy as np\n",
        "import pandas as pd\n",
        "import matplotlib.pyplot as plt\n",
        "\n",
        "print(tf.__version__)"
      ],
      "execution_count": 0,
      "outputs": [
        {
          "output_type": "stream",
          "text": [
            "TensorFlow 1.x selected.\n",
            "1.15.2\n"
          ],
          "name": "stdout"
        }
      ]
    },
    {
      "cell_type": "markdown",
      "metadata": {
        "id": "Jk9xIOT7t1W9",
        "colab_type": "text"
      },
      "source": [
        "Get dataset from Github repo and load it to Pandas."
      ]
    },
    {
      "cell_type": "code",
      "metadata": {
        "id": "L7lzcAZ1tnVl",
        "colab_type": "code",
        "colab": {}
      },
      "source": [
        "DS_TRAINING_URL = 'https://raw.githubusercontent.com/dewasathya/Bangkit-05-W05/master/titanic-extended/train.csv'\n",
        "DS_TEST_URL = 'https://raw.githubusercontent.com/dewasathya/Bangkit-05-W05/master/titanic-extended/test.csv'\n",
        "\n",
        "train_data = pd.read_csv(DS_TRAINING_URL)\n",
        "test_data = pd.read_csv(DS_TEST_URL)\n",
        "\n",
        "#train_data"
      ],
      "execution_count": 0,
      "outputs": []
    },
    {
      "cell_type": "markdown",
      "metadata": {
        "id": "vtTk5eG6GBqT",
        "colab_type": "text"
      },
      "source": [
        "Filling empty cells with values.\n"
      ]
    },
    {
      "cell_type": "code",
      "metadata": {
        "id": "qGIvJw57xZwg",
        "colab_type": "code",
        "colab": {}
      },
      "source": [
        "# Feature Engineering\n",
        "def nan_padding(data, columns):\n",
        "  for column in columns:\n",
        "    imputer = SimpleImputer()\n",
        "    data[column] = imputer.fit_transform(data[column].values.reshape(-1, 1))\n",
        "  return data\n",
        "\n",
        "nan_columns = [\"Age\", \"SibSp\", \"Parch\"]\n",
        "train_data = nan_padding(train_data, nan_columns)\n",
        "test_data = nan_padding(test_data, nan_columns)"
      ],
      "execution_count": 0,
      "outputs": []
    },
    {
      "cell_type": "markdown",
      "metadata": {
        "id": "DCl4simtHNHW",
        "colab_type": "text"
      },
      "source": [
        "Saving Passenger ID for final result."
      ]
    },
    {
      "cell_type": "code",
      "metadata": {
        "id": "UpSDzs1rzWEI",
        "colab_type": "code",
        "colab": {}
      },
      "source": [
        "# Save PassengerId for evaluation\n",
        "test_passenger_id = test_data[\"PassengerId\"]"
      ],
      "execution_count": 0,
      "outputs": []
    },
    {
      "cell_type": "markdown",
      "metadata": {
        "id": "Rv0yNEzMHWoe",
        "colab_type": "text"
      },
      "source": [
        "Dropping unnecessary columns from training and test dataset."
      ]
    },
    {
      "cell_type": "code",
      "metadata": {
        "id": "bvxWJ5O8zqXO",
        "colab_type": "code",
        "colab": {}
      },
      "source": [
        "# Drop not needed columns\n",
        "def drop_not_concerned(data, columns):\n",
        "  return data.drop(columns, axis=1)\n",
        "\n",
        "not_concerned_columns = [\n",
        "                         \"PassengerId\", \"Name\", \"Ticket\", \"Fare\",\n",
        "                         \"Cabin\", \"Embarked\", \"WikiId\", \"Name_wiki\",\n",
        "                         \"Age_wiki\", \"Hometown\", \"Boarded\", \"Destination\",\n",
        "                         \"Lifeboat\", \"Body\", \"Class\"\n",
        "]\n",
        "train_data = drop_not_concerned(train_data, not_concerned_columns)\n",
        "test_data = drop_not_concerned(test_data, not_concerned_columns)"
      ],
      "execution_count": 0,
      "outputs": []
    },
    {
      "cell_type": "code",
      "metadata": {
        "id": "y-npQKxU1KV-",
        "colab_type": "code",
        "outputId": "4a8d73b9-665d-4bf2-d189-dc0d66ad6873",
        "colab": {
          "base_uri": "https://localhost:8080/",
          "height": 195
        }
      },
      "source": [
        "train_data.head()"
      ],
      "execution_count": 0,
      "outputs": [
        {
          "output_type": "execute_result",
          "data": {
            "text/html": [
              "<div>\n",
              "<style scoped>\n",
              "    .dataframe tbody tr th:only-of-type {\n",
              "        vertical-align: middle;\n",
              "    }\n",
              "\n",
              "    .dataframe tbody tr th {\n",
              "        vertical-align: top;\n",
              "    }\n",
              "\n",
              "    .dataframe thead th {\n",
              "        text-align: right;\n",
              "    }\n",
              "</style>\n",
              "<table border=\"1\" class=\"dataframe\">\n",
              "  <thead>\n",
              "    <tr style=\"text-align: right;\">\n",
              "      <th></th>\n",
              "      <th>Survived</th>\n",
              "      <th>Pclass</th>\n",
              "      <th>Sex</th>\n",
              "      <th>Age</th>\n",
              "      <th>SibSp</th>\n",
              "      <th>Parch</th>\n",
              "    </tr>\n",
              "  </thead>\n",
              "  <tbody>\n",
              "    <tr>\n",
              "      <th>0</th>\n",
              "      <td>0.0</td>\n",
              "      <td>3</td>\n",
              "      <td>male</td>\n",
              "      <td>22.0</td>\n",
              "      <td>1.0</td>\n",
              "      <td>0.0</td>\n",
              "    </tr>\n",
              "    <tr>\n",
              "      <th>1</th>\n",
              "      <td>1.0</td>\n",
              "      <td>1</td>\n",
              "      <td>female</td>\n",
              "      <td>38.0</td>\n",
              "      <td>1.0</td>\n",
              "      <td>0.0</td>\n",
              "    </tr>\n",
              "    <tr>\n",
              "      <th>2</th>\n",
              "      <td>1.0</td>\n",
              "      <td>3</td>\n",
              "      <td>female</td>\n",
              "      <td>26.0</td>\n",
              "      <td>0.0</td>\n",
              "      <td>0.0</td>\n",
              "    </tr>\n",
              "    <tr>\n",
              "      <th>3</th>\n",
              "      <td>1.0</td>\n",
              "      <td>1</td>\n",
              "      <td>female</td>\n",
              "      <td>35.0</td>\n",
              "      <td>1.0</td>\n",
              "      <td>0.0</td>\n",
              "    </tr>\n",
              "    <tr>\n",
              "      <th>4</th>\n",
              "      <td>0.0</td>\n",
              "      <td>3</td>\n",
              "      <td>male</td>\n",
              "      <td>35.0</td>\n",
              "      <td>0.0</td>\n",
              "      <td>0.0</td>\n",
              "    </tr>\n",
              "  </tbody>\n",
              "</table>\n",
              "</div>"
            ],
            "text/plain": [
              "   Survived  Pclass     Sex   Age  SibSp  Parch\n",
              "0       0.0       3    male  22.0    1.0    0.0\n",
              "1       1.0       1  female  38.0    1.0    0.0\n",
              "2       1.0       3  female  26.0    0.0    0.0\n",
              "3       1.0       1  female  35.0    1.0    0.0\n",
              "4       0.0       3    male  35.0    0.0    0.0"
            ]
          },
          "metadata": {
            "tags": []
          },
          "execution_count": 6
        }
      ]
    },
    {
      "cell_type": "code",
      "metadata": {
        "id": "XwtultpioeRj",
        "colab_type": "code",
        "outputId": "d9153667-c379-4446-8767-3a930394cd0c",
        "colab": {
          "base_uri": "https://localhost:8080/",
          "height": 195
        }
      },
      "source": [
        "test_data.head()"
      ],
      "execution_count": 0,
      "outputs": [
        {
          "output_type": "execute_result",
          "data": {
            "text/html": [
              "<div>\n",
              "<style scoped>\n",
              "    .dataframe tbody tr th:only-of-type {\n",
              "        vertical-align: middle;\n",
              "    }\n",
              "\n",
              "    .dataframe tbody tr th {\n",
              "        vertical-align: top;\n",
              "    }\n",
              "\n",
              "    .dataframe thead th {\n",
              "        text-align: right;\n",
              "    }\n",
              "</style>\n",
              "<table border=\"1\" class=\"dataframe\">\n",
              "  <thead>\n",
              "    <tr style=\"text-align: right;\">\n",
              "      <th></th>\n",
              "      <th>Pclass</th>\n",
              "      <th>Sex</th>\n",
              "      <th>Age</th>\n",
              "      <th>SibSp</th>\n",
              "      <th>Parch</th>\n",
              "    </tr>\n",
              "  </thead>\n",
              "  <tbody>\n",
              "    <tr>\n",
              "      <th>0</th>\n",
              "      <td>3</td>\n",
              "      <td>male</td>\n",
              "      <td>34.5</td>\n",
              "      <td>0.0</td>\n",
              "      <td>0.0</td>\n",
              "    </tr>\n",
              "    <tr>\n",
              "      <th>1</th>\n",
              "      <td>3</td>\n",
              "      <td>female</td>\n",
              "      <td>47.0</td>\n",
              "      <td>1.0</td>\n",
              "      <td>0.0</td>\n",
              "    </tr>\n",
              "    <tr>\n",
              "      <th>2</th>\n",
              "      <td>2</td>\n",
              "      <td>male</td>\n",
              "      <td>62.0</td>\n",
              "      <td>0.0</td>\n",
              "      <td>0.0</td>\n",
              "    </tr>\n",
              "    <tr>\n",
              "      <th>3</th>\n",
              "      <td>3</td>\n",
              "      <td>male</td>\n",
              "      <td>27.0</td>\n",
              "      <td>0.0</td>\n",
              "      <td>0.0</td>\n",
              "    </tr>\n",
              "    <tr>\n",
              "      <th>4</th>\n",
              "      <td>3</td>\n",
              "      <td>female</td>\n",
              "      <td>22.0</td>\n",
              "      <td>1.0</td>\n",
              "      <td>1.0</td>\n",
              "    </tr>\n",
              "  </tbody>\n",
              "</table>\n",
              "</div>"
            ],
            "text/plain": [
              "   Pclass     Sex   Age  SibSp  Parch\n",
              "0       3    male  34.5    0.0    0.0\n",
              "1       3  female  47.0    1.0    0.0\n",
              "2       2    male  62.0    0.0    0.0\n",
              "3       3    male  27.0    0.0    0.0\n",
              "4       3  female  22.0    1.0    1.0"
            ]
          },
          "metadata": {
            "tags": []
          },
          "execution_count": 7
        }
      ]
    },
    {
      "cell_type": "markdown",
      "metadata": {
        "id": "yUWcatMGHsCw",
        "colab_type": "text"
      },
      "source": [
        "Separate Pclass into 3 (Pclass_1, Pclass_2, Pclass_3)."
      ]
    },
    {
      "cell_type": "code",
      "metadata": {
        "id": "JJELGkHToqlA",
        "colab_type": "code",
        "colab": {}
      },
      "source": [
        "def dummy_data(data, columns):\n",
        "  for column in columns:\n",
        "    data = pd.concat([data, pd.get_dummies(data[column], prefix=column)], axis=1)\n",
        "    data = data.drop(column, axis=1)\n",
        "  return data\n",
        "\n",
        "dummy_columns = [\"Pclass\"]\n",
        "train_data=dummy_data(train_data, dummy_columns)\n",
        "test_data=dummy_data(test_data, dummy_columns)"
      ],
      "execution_count": 0,
      "outputs": []
    },
    {
      "cell_type": "code",
      "metadata": {
        "id": "nF5wiOpQpL1Z",
        "colab_type": "code",
        "outputId": "1bc2e049-c326-4aea-a1c8-a26455951ca6",
        "colab": {
          "base_uri": "https://localhost:8080/",
          "height": 195
        }
      },
      "source": [
        "test_data.head()"
      ],
      "execution_count": 0,
      "outputs": [
        {
          "output_type": "execute_result",
          "data": {
            "text/html": [
              "<div>\n",
              "<style scoped>\n",
              "    .dataframe tbody tr th:only-of-type {\n",
              "        vertical-align: middle;\n",
              "    }\n",
              "\n",
              "    .dataframe tbody tr th {\n",
              "        vertical-align: top;\n",
              "    }\n",
              "\n",
              "    .dataframe thead th {\n",
              "        text-align: right;\n",
              "    }\n",
              "</style>\n",
              "<table border=\"1\" class=\"dataframe\">\n",
              "  <thead>\n",
              "    <tr style=\"text-align: right;\">\n",
              "      <th></th>\n",
              "      <th>Sex</th>\n",
              "      <th>Age</th>\n",
              "      <th>SibSp</th>\n",
              "      <th>Parch</th>\n",
              "      <th>Pclass_1</th>\n",
              "      <th>Pclass_2</th>\n",
              "      <th>Pclass_3</th>\n",
              "    </tr>\n",
              "  </thead>\n",
              "  <tbody>\n",
              "    <tr>\n",
              "      <th>0</th>\n",
              "      <td>male</td>\n",
              "      <td>34.5</td>\n",
              "      <td>0.0</td>\n",
              "      <td>0.0</td>\n",
              "      <td>0</td>\n",
              "      <td>0</td>\n",
              "      <td>1</td>\n",
              "    </tr>\n",
              "    <tr>\n",
              "      <th>1</th>\n",
              "      <td>female</td>\n",
              "      <td>47.0</td>\n",
              "      <td>1.0</td>\n",
              "      <td>0.0</td>\n",
              "      <td>0</td>\n",
              "      <td>0</td>\n",
              "      <td>1</td>\n",
              "    </tr>\n",
              "    <tr>\n",
              "      <th>2</th>\n",
              "      <td>male</td>\n",
              "      <td>62.0</td>\n",
              "      <td>0.0</td>\n",
              "      <td>0.0</td>\n",
              "      <td>0</td>\n",
              "      <td>1</td>\n",
              "      <td>0</td>\n",
              "    </tr>\n",
              "    <tr>\n",
              "      <th>3</th>\n",
              "      <td>male</td>\n",
              "      <td>27.0</td>\n",
              "      <td>0.0</td>\n",
              "      <td>0.0</td>\n",
              "      <td>0</td>\n",
              "      <td>0</td>\n",
              "      <td>1</td>\n",
              "    </tr>\n",
              "    <tr>\n",
              "      <th>4</th>\n",
              "      <td>female</td>\n",
              "      <td>22.0</td>\n",
              "      <td>1.0</td>\n",
              "      <td>1.0</td>\n",
              "      <td>0</td>\n",
              "      <td>0</td>\n",
              "      <td>1</td>\n",
              "    </tr>\n",
              "  </tbody>\n",
              "</table>\n",
              "</div>"
            ],
            "text/plain": [
              "      Sex   Age  SibSp  Parch  Pclass_1  Pclass_2  Pclass_3\n",
              "0    male  34.5    0.0    0.0         0         0         1\n",
              "1  female  47.0    1.0    0.0         0         0         1\n",
              "2    male  62.0    0.0    0.0         0         1         0\n",
              "3    male  27.0    0.0    0.0         0         0         1\n",
              "4  female  22.0    1.0    1.0         0         0         1"
            ]
          },
          "metadata": {
            "tags": []
          },
          "execution_count": 9
        }
      ]
    }
  ]
}